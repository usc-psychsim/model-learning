{
 "cells": [
  {
   "cell_type": "code",
   "execution_count": 1,
   "id": "f33f5231",
   "metadata": {
    "pycharm": {
     "name": "#%%\n"
    }
   },
   "outputs": [
    {
     "name": "stdout",
     "output_type": "stream",
     "text": [
      "/Users/haochen/Desktop/IRL/model-learning/model_learning/examples/output/examples/reward-model-multiagent/team_trajs_3models_16x25_1\n"
     ]
    }
   ],
   "source": [
    "from model_learning.examples.reward_model_multiagent_inference import *\n",
    "from model_learning.examples.reward_model_multiagent_inference import OUTPUT_DIR\n",
    "\n",
    "IMG_EXT = 'pdf'\n",
    "FOLDER_NAME = f'team_trajs_{len(MODEL_ROLES)}models_{NUM_TRAJECTORIES}x{TRAJ_LENGTH}_{MODEL_RATIONALITY}'\n",
    "case = 'gtoprd'\n",
    "if case == 'gtoprd':\n",
    "    MODEL_ROLES = ['GroundTruth', 'Opposite', 'Random']\n",
    "elif case == 'rdtksc':\n",
    "    MODEL_ROLES = ['Random', 'Task', 'Social']\n",
    "elif case == 'gttk':\n",
    "    MODEL_NAMES = ['GroundTruth', 'Task']\n",
    "# FOLDER_NAME = f'team_trajs_{case}_{NUM_TRAJECTORIES}x{TRAJ_LENGTH}_{MODEL_RATIONALITY}'\n",
    "# FOLDER_NAME = f'GT_team_trajs_{case}_{NUM_TRAJECTORIES}x{TRAJ_LENGTH}_{MODEL_RATIONALITY}'\n",
    "\n",
    "\n",
    "TRAJ_DIR = os.path.join(OUTPUT_DIR, FOLDER_NAME)\n",
    "print(TRAJ_DIR)\n",
    "if not os.path.exists(TRAJ_DIR):\n",
    "    os.mkdir(TRAJ_DIR)\n",
    "LOAD = 1\n"
   ]
  },
  {
   "cell_type": "code",
   "execution_count": 2,
   "id": "59c5996a",
   "metadata": {
    "pycharm": {
     "name": "#%%\n"
    }
   },
   "outputs": [
    {
     "name": "stdout",
     "output_type": "stream",
     "text": [
      "[[<model_learning.TeamStateinfoActionModelTuple object at 0x7fc26a517eb0>, <model_learning.TeamStateinfoActionModelTuple object at 0x7fc26a51a970>, <model_learning.TeamStateinfoActionModelTuple object at 0x7fc26a51ac10>, <model_learning.TeamStateinfoActionModelTuple object at 0x7fc26a51adf0>, <model_learning.TeamStateinfoActionModelTuple object at 0x7fc26a51a040>, <model_learning.TeamStateinfoActionModelTuple object at 0x7fc26e1dbaf0>, <model_learning.TeamStateinfoActionModelTuple object at 0x7fc26e1db970>, <model_learning.TeamStateinfoActionModelTuple object at 0x7fc26e1db730>, <model_learning.TeamStateinfoActionModelTuple object at 0x7fc26e1db370>, <model_learning.TeamStateinfoActionModelTuple object at 0x7fc26e1dbd00>, <model_learning.TeamStateinfoActionModelTuple object at 0x7fc26e1dbe80>, <model_learning.TeamStateinfoActionModelTuple object at 0x7fc26e1ee040>, <model_learning.TeamStateinfoActionModelTuple object at 0x7fc26e1ee160>, <model_learning.TeamStateinfoActionModelTuple object at 0x7fc26e1ee280>, <model_learning.TeamStateinfoActionModelTuple object at 0x7fc26e1ee400>, <model_learning.TeamStateinfoActionModelTuple object at 0x7fc26e1ee520>, <model_learning.TeamStateinfoActionModelTuple object at 0x7fc26e1ee640>, <model_learning.TeamStateinfoActionModelTuple object at 0x7fc26e1ee760>, <model_learning.TeamStateinfoActionModelTuple object at 0x7fc26e1ee8e0>, <model_learning.TeamStateinfoActionModelTuple object at 0x7fc26e1eea00>, <model_learning.TeamStateinfoActionModelTuple object at 0x7fc26e1eeb80>, <model_learning.TeamStateinfoActionModelTuple object at 0x7fc26e1eeca0>, <model_learning.TeamStateinfoActionModelTuple object at 0x7fc26e1eedc0>, <model_learning.TeamStateinfoActionModelTuple object at 0x7fc26e1eeee0>, <model_learning.TeamStateinfoActionModelTuple object at 0x7fc26e1f8040>], [<model_learning.TeamStateinfoActionModelTuple object at 0x7fc26e1f8160>, <model_learning.TeamStateinfoActionModelTuple object at 0x7fc26e1f8580>, <model_learning.TeamStateinfoActionModelTuple object at 0x7fc26e1f8760>, <model_learning.TeamStateinfoActionModelTuple object at 0x7fc26e1f8880>, <model_learning.TeamStateinfoActionModelTuple object at 0x7fc26e1f8a00>, <model_learning.TeamStateinfoActionModelTuple object at 0x7fc26e1f8b20>, <model_learning.TeamStateinfoActionModelTuple object at 0x7fc26e1f8c40>, <model_learning.TeamStateinfoActionModelTuple object at 0x7fc26e1f8e20>, <model_learning.TeamStateinfoActionModelTuple object at 0x7fc26e1f8fa0>, <model_learning.TeamStateinfoActionModelTuple object at 0x7fc26e572160>, <model_learning.TeamStateinfoActionModelTuple object at 0x7fc26e572340>, <model_learning.TeamStateinfoActionModelTuple object at 0x7fc26e5724c0>, <model_learning.TeamStateinfoActionModelTuple object at 0x7fc26e5725e0>, <model_learning.TeamStateinfoActionModelTuple object at 0x7fc26e572700>, <model_learning.TeamStateinfoActionModelTuple object at 0x7fc26e572820>, <model_learning.TeamStateinfoActionModelTuple object at 0x7fc26e572940>, <model_learning.TeamStateinfoActionModelTuple object at 0x7fc26e572ac0>, <model_learning.TeamStateinfoActionModelTuple object at 0x7fc26e572be0>, <model_learning.TeamStateinfoActionModelTuple object at 0x7fc26e572d00>, <model_learning.TeamStateinfoActionModelTuple object at 0x7fc26e572e80>, <model_learning.TeamStateinfoActionModelTuple object at 0x7fc26e572fa0>, <model_learning.TeamStateinfoActionModelTuple object at 0x7fc26e57c100>, <model_learning.TeamStateinfoActionModelTuple object at 0x7fc26e57c220>, <model_learning.TeamStateinfoActionModelTuple object at 0x7fc26e57c340>, <model_learning.TeamStateinfoActionModelTuple object at 0x7fc26e57c460>], [<model_learning.TeamStateinfoActionModelTuple object at 0x7fc26e57c580>, <model_learning.TeamStateinfoActionModelTuple object at 0x7fc26e57c9a0>, <model_learning.TeamStateinfoActionModelTuple object at 0x7fc26e57cb80>, <model_learning.TeamStateinfoActionModelTuple object at 0x7fc26e57cca0>, <model_learning.TeamStateinfoActionModelTuple object at 0x7fc26e57cee0>, <model_learning.TeamStateinfoActionModelTuple object at 0x7fc26e5860d0>, <model_learning.TeamStateinfoActionModelTuple object at 0x7fc26e586280>, <model_learning.TeamStateinfoActionModelTuple object at 0x7fc26e586430>, <model_learning.TeamStateinfoActionModelTuple object at 0x7fc26e5865e0>, <model_learning.TeamStateinfoActionModelTuple object at 0x7fc26e586700>, <model_learning.TeamStateinfoActionModelTuple object at 0x7fc26e586940>, <model_learning.TeamStateinfoActionModelTuple object at 0x7fc26e586a00>, <model_learning.TeamStateinfoActionModelTuple object at 0x7fc26e586b20>, <model_learning.TeamStateinfoActionModelTuple object at 0x7fc26e586d30>, <model_learning.TeamStateinfoActionModelTuple object at 0x7fc26e586e50>, <model_learning.TeamStateinfoActionModelTuple object at 0x7fc26e586f70>, <model_learning.TeamStateinfoActionModelTuple object at 0x7fc26e58e0d0>, <model_learning.TeamStateinfoActionModelTuple object at 0x7fc26e58e1f0>, <model_learning.TeamStateinfoActionModelTuple object at 0x7fc26e58e3a0>, <model_learning.TeamStateinfoActionModelTuple object at 0x7fc26e58e4c0>, <model_learning.TeamStateinfoActionModelTuple object at 0x7fc26e58e670>, <model_learning.TeamStateinfoActionModelTuple object at 0x7fc26e58e790>, <model_learning.TeamStateinfoActionModelTuple object at 0x7fc26e58e8b0>, <model_learning.TeamStateinfoActionModelTuple object at 0x7fc26e58e9d0>, <model_learning.TeamStateinfoActionModelTuple object at 0x7fc26e58eaf0>], [<model_learning.TeamStateinfoActionModelTuple object at 0x7fc26e58ec10>, <model_learning.TeamStateinfoActionModelTuple object at 0x7fc26e5980d0>, <model_learning.TeamStateinfoActionModelTuple object at 0x7fc26e598310>, <model_learning.TeamStateinfoActionModelTuple object at 0x7fc26e5984c0>, <model_learning.TeamStateinfoActionModelTuple object at 0x7fc26e5985e0>, <model_learning.TeamStateinfoActionModelTuple object at 0x7fc26e598700>, <model_learning.TeamStateinfoActionModelTuple object at 0x7fc26e5988b0>, <model_learning.TeamStateinfoActionModelTuple object at 0x7fc26e5989d0>, <model_learning.TeamStateinfoActionModelTuple object at 0x7fc26e598af0>, <model_learning.TeamStateinfoActionModelTuple object at 0x7fc26e598d30>, <model_learning.TeamStateinfoActionModelTuple object at 0x7fc26e598f70>, <model_learning.TeamStateinfoActionModelTuple object at 0x7fc26e5a20d0>, <model_learning.TeamStateinfoActionModelTuple object at 0x7fc26e5a2280>, <model_learning.TeamStateinfoActionModelTuple object at 0x7fc26e5a23a0>, <model_learning.TeamStateinfoActionModelTuple object at 0x7fc26e5a2550>, <model_learning.TeamStateinfoActionModelTuple object at 0x7fc26e5a2670>, <model_learning.TeamStateinfoActionModelTuple object at 0x7fc26e5a2790>, <model_learning.TeamStateinfoActionModelTuple object at 0x7fc26e5a28b0>, <model_learning.TeamStateinfoActionModelTuple object at 0x7fc26e5a29d0>, <model_learning.TeamStateinfoActionModelTuple object at 0x7fc26e5a2af0>, <model_learning.TeamStateinfoActionModelTuple object at 0x7fc26e5a2ca0>, <model_learning.TeamStateinfoActionModelTuple object at 0x7fc26e5a2dc0>, <model_learning.TeamStateinfoActionModelTuple object at 0x7fc26e5a2ee0>, <model_learning.TeamStateinfoActionModelTuple object at 0x7fc26e5aa040>, <model_learning.TeamStateinfoActionModelTuple object at 0x7fc26e5aa1f0>], [<model_learning.TeamStateinfoActionModelTuple object at 0x7fc26e5aa310>, <model_learning.TeamStateinfoActionModelTuple object at 0x7fc26e5aa790>, <model_learning.TeamStateinfoActionModelTuple object at 0x7fc26e5aa9d0>, <model_learning.TeamStateinfoActionModelTuple object at 0x7fc26e5aaaf0>, <model_learning.TeamStateinfoActionModelTuple object at 0x7fc26e5aaca0>, <model_learning.TeamStateinfoActionModelTuple object at 0x7fc26e5aadc0>, <model_learning.TeamStateinfoActionModelTuple object at 0x7fc26e5b4040>, <model_learning.TeamStateinfoActionModelTuple object at 0x7fc26e5b41f0>, <model_learning.TeamStateinfoActionModelTuple object at 0x7fc26e5b4430>, <model_learning.TeamStateinfoActionModelTuple object at 0x7fc26e5b45e0>, <model_learning.TeamStateinfoActionModelTuple object at 0x7fc26e5b4790>, <model_learning.TeamStateinfoActionModelTuple object at 0x7fc26e5b48b0>, <model_learning.TeamStateinfoActionModelTuple object at 0x7fc26e5b4a60>, <model_learning.TeamStateinfoActionModelTuple object at 0x7fc26e5b4b80>, <model_learning.TeamStateinfoActionModelTuple object at 0x7fc26e5b4ca0>, <model_learning.TeamStateinfoActionModelTuple object at 0x7fc26e5b4dc0>, <model_learning.TeamStateinfoActionModelTuple object at 0x7fc26e5b4ee0>, <model_learning.TeamStateinfoActionModelTuple object at 0x7fc26e5be040>, <model_learning.TeamStateinfoActionModelTuple object at 0x7fc26e5be160>, <model_learning.TeamStateinfoActionModelTuple object at 0x7fc26e5be310>, <model_learning.TeamStateinfoActionModelTuple object at 0x7fc26e5be430>, <model_learning.TeamStateinfoActionModelTuple object at 0x7fc26e5be550>, <model_learning.TeamStateinfoActionModelTuple object at 0x7fc26e5be670>, <model_learning.TeamStateinfoActionModelTuple object at 0x7fc26e5be790>, <model_learning.TeamStateinfoActionModelTuple object at 0x7fc26e5be8b0>], [<model_learning.TeamStateinfoActionModelTuple object at 0x7fc26e5be9d0>, <model_learning.TeamStateinfoActionModelTuple object at 0x7fc26e5bee50>, <model_learning.TeamStateinfoActionModelTuple object at 0x7fc26e5c80d0>, <model_learning.TeamStateinfoActionModelTuple object at 0x7fc26e5c8280>, <model_learning.TeamStateinfoActionModelTuple object at 0x7fc26e5c8430>, <model_learning.TeamStateinfoActionModelTuple object at 0x7fc26e5c8550>, <model_learning.TeamStateinfoActionModelTuple object at 0x7fc26e5c8670>, <model_learning.TeamStateinfoActionModelTuple object at 0x7fc26e5c88b0>, <model_learning.TeamStateinfoActionModelTuple object at 0x7fc26e5c8af0>, <model_learning.TeamStateinfoActionModelTuple object at 0x7fc26e5c8c10>, <model_learning.TeamStateinfoActionModelTuple object at 0x7fc26e5c8d30>, <model_learning.TeamStateinfoActionModelTuple object at 0x7fc26e5c8ee0>, <model_learning.TeamStateinfoActionModelTuple object at 0x7fc26e5d1040>, <model_learning.TeamStateinfoActionModelTuple object at 0x7fc26e5d11f0>, <model_learning.TeamStateinfoActionModelTuple object at 0x7fc26e5d1310>, <model_learning.TeamStateinfoActionModelTuple object at 0x7fc26e5d1430>, <model_learning.TeamStateinfoActionModelTuple object at 0x7fc26e5d1550>, <model_learning.TeamStateinfoActionModelTuple object at 0x7fc26e5d1670>, <model_learning.TeamStateinfoActionModelTuple object at 0x7fc26e5d1790>, <model_learning.TeamStateinfoActionModelTuple object at 0x7fc26e5d18b0>, <model_learning.TeamStateinfoActionModelTuple object at 0x7fc26e5d19d0>, <model_learning.TeamStateinfoActionModelTuple object at 0x7fc26e5d1af0>, <model_learning.TeamStateinfoActionModelTuple object at 0x7fc26e5d1c10>, <model_learning.TeamStateinfoActionModelTuple object at 0x7fc26e5d1d30>, <model_learning.TeamStateinfoActionModelTuple object at 0x7fc26e5d1e50>], [<model_learning.TeamStateinfoActionModelTuple object at 0x7fc26e5db040>, <model_learning.TeamStateinfoActionModelTuple object at 0x7fc26e5db4c0>, <model_learning.TeamStateinfoActionModelTuple object at 0x7fc26e5db700>, <model_learning.TeamStateinfoActionModelTuple object at 0x7fc26e5db820>, <model_learning.TeamStateinfoActionModelTuple object at 0x7fc26e5db9d0>, <model_learning.TeamStateinfoActionModelTuple object at 0x7fc26e5dbb80>, <model_learning.TeamStateinfoActionModelTuple object at 0x7fc26e5dbdc0>, <model_learning.TeamStateinfoActionModelTuple object at 0x7fc26e5dbf70>, <model_learning.TeamStateinfoActionModelTuple object at 0x7fc26e5e31f0>, <model_learning.TeamStateinfoActionModelTuple object at 0x7fc26e5e33a0>, <model_learning.TeamStateinfoActionModelTuple object at 0x7fc26e5e34c0>, <model_learning.TeamStateinfoActionModelTuple object at 0x7fc26e5e3670>, <model_learning.TeamStateinfoActionModelTuple object at 0x7fc26e5e3790>, <model_learning.TeamStateinfoActionModelTuple object at 0x7fc26e5e38b0>, <model_learning.TeamStateinfoActionModelTuple object at 0x7fc26e5e39d0>, <model_learning.TeamStateinfoActionModelTuple object at 0x7fc26e5e3af0>, <model_learning.TeamStateinfoActionModelTuple object at 0x7fc26e5e3c10>, <model_learning.TeamStateinfoActionModelTuple object at 0x7fc26e5e3d30>, <model_learning.TeamStateinfoActionModelTuple object at 0x7fc26e5e3e50>, <model_learning.TeamStateinfoActionModelTuple object at 0x7fc26e5e3f70>, <model_learning.TeamStateinfoActionModelTuple object at 0x7fc26e5ed0d0>, <model_learning.TeamStateinfoActionModelTuple object at 0x7fc26e5ed1f0>, <model_learning.TeamStateinfoActionModelTuple object at 0x7fc26e5ed310>, <model_learning.TeamStateinfoActionModelTuple object at 0x7fc26e5ed430>, <model_learning.TeamStateinfoActionModelTuple object at 0x7fc26e5ed550>], [<model_learning.TeamStateinfoActionModelTuple object at 0x7fc26e5ed670>, <model_learning.TeamStateinfoActionModelTuple object at 0x7fc26e5edaf0>, <model_learning.TeamStateinfoActionModelTuple object at 0x7fc26e5edd30>, <model_learning.TeamStateinfoActionModelTuple object at 0x7fc26e5ede50>, <model_learning.TeamStateinfoActionModelTuple object at 0x7fc26e5f60d0>, <model_learning.TeamStateinfoActionModelTuple object at 0x7fc26e5f6280>, <model_learning.TeamStateinfoActionModelTuple object at 0x7fc26e5f6430>, <model_learning.TeamStateinfoActionModelTuple object at 0x7fc26e5f6550>, <model_learning.TeamStateinfoActionModelTuple object at 0x7fc26e5f6700>, <model_learning.TeamStateinfoActionModelTuple object at 0x7fc26e5f6940>, <model_learning.TeamStateinfoActionModelTuple object at 0x7fc26e5f6af0>, <model_learning.TeamStateinfoActionModelTuple object at 0x7fc26e5f6c10>, <model_learning.TeamStateinfoActionModelTuple object at 0x7fc26e5f6d30>, <model_learning.TeamStateinfoActionModelTuple object at 0x7fc26e5f6e50>, <model_learning.TeamStateinfoActionModelTuple object at 0x7fc26e5f6f70>, <model_learning.TeamStateinfoActionModelTuple object at 0x7fc26e5ff0d0>, <model_learning.TeamStateinfoActionModelTuple object at 0x7fc26e5ff280>, <model_learning.TeamStateinfoActionModelTuple object at 0x7fc26e5ff3a0>, <model_learning.TeamStateinfoActionModelTuple object at 0x7fc26e5ff4c0>, <model_learning.TeamStateinfoActionModelTuple object at 0x7fc26e5ff670>, <model_learning.TeamStateinfoActionModelTuple object at 0x7fc26e5ff790>, <model_learning.TeamStateinfoActionModelTuple object at 0x7fc26e5ff8b0>, <model_learning.TeamStateinfoActionModelTuple object at 0x7fc26e5ff9d0>, <model_learning.TeamStateinfoActionModelTuple object at 0x7fc26e5ffaf0>, <model_learning.TeamStateinfoActionModelTuple object at 0x7fc26e5ffc10>], [<model_learning.TeamStateinfoActionModelTuple object at 0x7fc26e5ffd30>, <model_learning.TeamStateinfoActionModelTuple object at 0x7fc26e6081f0>, <model_learning.TeamStateinfoActionModelTuple object at 0x7fc26e608430>, <model_learning.TeamStateinfoActionModelTuple object at 0x7fc26e6085e0>, <model_learning.TeamStateinfoActionModelTuple object at 0x7fc26e608790>, <model_learning.TeamStateinfoActionModelTuple object at 0x7fc26e6088b0>, <model_learning.TeamStateinfoActionModelTuple object at 0x7fc26e6089d0>, <model_learning.TeamStateinfoActionModelTuple object at 0x7fc26e608c10>, <model_learning.TeamStateinfoActionModelTuple object at 0x7fc26e608e50>, <model_learning.TeamStateinfoActionModelTuple object at 0x7fc26e608f70>, <model_learning.TeamStateinfoActionModelTuple object at 0x7fc26e6130d0>, <model_learning.TeamStateinfoActionModelTuple object at 0x7fc26e613280>, <model_learning.TeamStateinfoActionModelTuple object at 0x7fc26e6133a0>, <model_learning.TeamStateinfoActionModelTuple object at 0x7fc26e613550>, <model_learning.TeamStateinfoActionModelTuple object at 0x7fc26e613670>, <model_learning.TeamStateinfoActionModelTuple object at 0x7fc26e613790>, <model_learning.TeamStateinfoActionModelTuple object at 0x7fc26e6138b0>, <model_learning.TeamStateinfoActionModelTuple object at 0x7fc26e6139d0>, <model_learning.TeamStateinfoActionModelTuple object at 0x7fc26e613af0>, <model_learning.TeamStateinfoActionModelTuple object at 0x7fc26e613c10>, <model_learning.TeamStateinfoActionModelTuple object at 0x7fc26e613d30>, <model_learning.TeamStateinfoActionModelTuple object at 0x7fc26e613e50>, <model_learning.TeamStateinfoActionModelTuple object at 0x7fc26e61c040>, <model_learning.TeamStateinfoActionModelTuple object at 0x7fc26e61c160>, <model_learning.TeamStateinfoActionModelTuple object at 0x7fc26e61c280>], [<model_learning.TeamStateinfoActionModelTuple object at 0x7fc26e61c3a0>, <model_learning.TeamStateinfoActionModelTuple object at 0x7fc26e61c820>, <model_learning.TeamStateinfoActionModelTuple object at 0x7fc26e61ca60>, <model_learning.TeamStateinfoActionModelTuple object at 0x7fc26e61cb80>, <model_learning.TeamStateinfoActionModelTuple object at 0x7fc26e61cd30>, <model_learning.TeamStateinfoActionModelTuple object at 0x7fc26e61ce50>, <model_learning.TeamStateinfoActionModelTuple object at 0x7fc26e625040>, <model_learning.TeamStateinfoActionModelTuple object at 0x7fc26e6251f0>, <model_learning.TeamStateinfoActionModelTuple object at 0x7fc26e625430>, <model_learning.TeamStateinfoActionModelTuple object at 0x7fc26e6255e0>, <model_learning.TeamStateinfoActionModelTuple object at 0x7fc26e625790>, <model_learning.TeamStateinfoActionModelTuple object at 0x7fc26e6259d0>, <model_learning.TeamStateinfoActionModelTuple object at 0x7fc26e625b80>, <model_learning.TeamStateinfoActionModelTuple object at 0x7fc26e625ca0>, <model_learning.TeamStateinfoActionModelTuple object at 0x7fc26e625dc0>, <model_learning.TeamStateinfoActionModelTuple object at 0x7fc26e625ee0>, <model_learning.TeamStateinfoActionModelTuple object at 0x7fc26e62e040>, <model_learning.TeamStateinfoActionModelTuple object at 0x7fc26e62e160>, <model_learning.TeamStateinfoActionModelTuple object at 0x7fc26e62e280>, <model_learning.TeamStateinfoActionModelTuple object at 0x7fc26e62e3a0>, <model_learning.TeamStateinfoActionModelTuple object at 0x7fc26e62e4c0>, <model_learning.TeamStateinfoActionModelTuple object at 0x7fc26e62e670>, <model_learning.TeamStateinfoActionModelTuple object at 0x7fc26e62e790>, <model_learning.TeamStateinfoActionModelTuple object at 0x7fc26e62e8b0>, <model_learning.TeamStateinfoActionModelTuple object at 0x7fc26e62e9d0>], [<model_learning.TeamStateinfoActionModelTuple object at 0x7fc26e62eaf0>, <model_learning.TeamStateinfoActionModelTuple object at 0x7fc26e62ef70>, <model_learning.TeamStateinfoActionModelTuple object at 0x7fc26e6381f0>, <model_learning.TeamStateinfoActionModelTuple object at 0x7fc26e6383a0>, <model_learning.TeamStateinfoActionModelTuple object at 0x7fc26e6384c0>, <model_learning.TeamStateinfoActionModelTuple object at 0x7fc26e6385e0>, <model_learning.TeamStateinfoActionModelTuple object at 0x7fc26e638790>, <model_learning.TeamStateinfoActionModelTuple object at 0x7fc26e6388b0>, <model_learning.TeamStateinfoActionModelTuple object at 0x7fc26e6389d0>, <model_learning.TeamStateinfoActionModelTuple object at 0x7fc26e638c10>, <model_learning.TeamStateinfoActionModelTuple object at 0x7fc26e638e50>, <model_learning.TeamStateinfoActionModelTuple object at 0x7fc26e638f70>, <model_learning.TeamStateinfoActionModelTuple object at 0x7fc26e6410d0>, <model_learning.TeamStateinfoActionModelTuple object at 0x7fc26e6411f0>, <model_learning.TeamStateinfoActionModelTuple object at 0x7fc26e641310>, <model_learning.TeamStateinfoActionModelTuple object at 0x7fc26e641430>, <model_learning.TeamStateinfoActionModelTuple object at 0x7fc26e641670>, <model_learning.TeamStateinfoActionModelTuple object at 0x7fc26e641790>, <model_learning.TeamStateinfoActionModelTuple object at 0x7fc26e6418b0>, <model_learning.TeamStateinfoActionModelTuple object at 0x7fc26e6419d0>, <model_learning.TeamStateinfoActionModelTuple object at 0x7fc26e641af0>, <model_learning.TeamStateinfoActionModelTuple object at 0x7fc26e641c10>, <model_learning.TeamStateinfoActionModelTuple object at 0x7fc26e641dc0>, <model_learning.TeamStateinfoActionModelTuple object at 0x7fc26e641ee0>, <model_learning.TeamStateinfoActionModelTuple object at 0x7fc26e64b040>], [<model_learning.TeamStateinfoActionModelTuple object at 0x7fc26e64b160>, <model_learning.TeamStateinfoActionModelTuple object at 0x7fc26e64b5e0>, <model_learning.TeamStateinfoActionModelTuple object at 0x7fc26e64b820>, <model_learning.TeamStateinfoActionModelTuple object at 0x7fc26e64b940>, <model_learning.TeamStateinfoActionModelTuple object at 0x7fc26e64baf0>, <model_learning.TeamStateinfoActionModelTuple object at 0x7fc26e64bd30>, <model_learning.TeamStateinfoActionModelTuple object at 0x7fc26e64bee0>, <model_learning.TeamStateinfoActionModelTuple object at 0x7fc26e654040>, <model_learning.TeamStateinfoActionModelTuple object at 0x7fc26e6541f0>, <model_learning.TeamStateinfoActionModelTuple object at 0x7fc26e654430>, <model_learning.TeamStateinfoActionModelTuple object at 0x7fc26e6545e0>, <model_learning.TeamStateinfoActionModelTuple object at 0x7fc26e654700>, <model_learning.TeamStateinfoActionModelTuple object at 0x7fc26e654820>, <model_learning.TeamStateinfoActionModelTuple object at 0x7fc26e654940>, <model_learning.TeamStateinfoActionModelTuple object at 0x7fc26e654af0>, <model_learning.TeamStateinfoActionModelTuple object at 0x7fc26e654c10>, <model_learning.TeamStateinfoActionModelTuple object at 0x7fc26e654d30>, <model_learning.TeamStateinfoActionModelTuple object at 0x7fc26e654e50>, <model_learning.TeamStateinfoActionModelTuple object at 0x7fc26e654f70>, <model_learning.TeamStateinfoActionModelTuple object at 0x7fc26e65e0d0>, <model_learning.TeamStateinfoActionModelTuple object at 0x7fc26e65e280>, <model_learning.TeamStateinfoActionModelTuple object at 0x7fc26e65e3a0>, <model_learning.TeamStateinfoActionModelTuple object at 0x7fc26e65e4c0>, <model_learning.TeamStateinfoActionModelTuple object at 0x7fc26e65e5e0>, <model_learning.TeamStateinfoActionModelTuple object at 0x7fc26e65e700>], [<model_learning.TeamStateinfoActionModelTuple object at 0x7fc26e65e820>, <model_learning.TeamStateinfoActionModelTuple object at 0x7fc26e65eca0>, <model_learning.TeamStateinfoActionModelTuple object at 0x7fc26e65eee0>, <model_learning.TeamStateinfoActionModelTuple object at 0x7fc26e668040>, <model_learning.TeamStateinfoActionModelTuple object at 0x7fc26e6681f0>, <model_learning.TeamStateinfoActionModelTuple object at 0x7fc26e6683a0>, <model_learning.TeamStateinfoActionModelTuple object at 0x7fc26e668550>, <model_learning.TeamStateinfoActionModelTuple object at 0x7fc26e668700>, <model_learning.TeamStateinfoActionModelTuple object at 0x7fc26e668940>, <model_learning.TeamStateinfoActionModelTuple object at 0x7fc26e668b80>, <model_learning.TeamStateinfoActionModelTuple object at 0x7fc26e668ca0>, <model_learning.TeamStateinfoActionModelTuple object at 0x7fc26e668e50>, <model_learning.TeamStateinfoActionModelTuple object at 0x7fc26e668f70>, <model_learning.TeamStateinfoActionModelTuple object at 0x7fc26e6700d0>, <model_learning.TeamStateinfoActionModelTuple object at 0x7fc26e670280>, <model_learning.TeamStateinfoActionModelTuple object at 0x7fc26e6703a0>, <model_learning.TeamStateinfoActionModelTuple object at 0x7fc26e6704c0>, <model_learning.TeamStateinfoActionModelTuple object at 0x7fc26e6705e0>, <model_learning.TeamStateinfoActionModelTuple object at 0x7fc26e670700>, <model_learning.TeamStateinfoActionModelTuple object at 0x7fc26e670820>, <model_learning.TeamStateinfoActionModelTuple object at 0x7fc26e670940>, <model_learning.TeamStateinfoActionModelTuple object at 0x7fc26e670a60>, <model_learning.TeamStateinfoActionModelTuple object at 0x7fc26e670c10>, <model_learning.TeamStateinfoActionModelTuple object at 0x7fc26e670d30>, <model_learning.TeamStateinfoActionModelTuple object at 0x7fc26e670e50>], [<model_learning.TeamStateinfoActionModelTuple object at 0x7fc26e670f70>, <model_learning.TeamStateinfoActionModelTuple object at 0x7fc26e67a430>, <model_learning.TeamStateinfoActionModelTuple object at 0x7fc26e67a670>, <model_learning.TeamStateinfoActionModelTuple object at 0x7fc26e67a820>, <model_learning.TeamStateinfoActionModelTuple object at 0x7fc26e67aa60>, <model_learning.TeamStateinfoActionModelTuple object at 0x7fc26e67aca0>, <model_learning.TeamStateinfoActionModelTuple object at 0x7fc26e67ae50>, <model_learning.TeamStateinfoActionModelTuple object at 0x7fc26e67af70>, <model_learning.TeamStateinfoActionModelTuple object at 0x7fc26e6830d0>, <model_learning.TeamStateinfoActionModelTuple object at 0x7fc26e6831f0>, <model_learning.TeamStateinfoActionModelTuple object at 0x7fc26e683310>, <model_learning.TeamStateinfoActionModelTuple object at 0x7fc26e683550>, <model_learning.TeamStateinfoActionModelTuple object at 0x7fc26e683670>, <model_learning.TeamStateinfoActionModelTuple object at 0x7fc26e683790>, <model_learning.TeamStateinfoActionModelTuple object at 0x7fc26e6838b0>, <model_learning.TeamStateinfoActionModelTuple object at 0x7fc26e6839d0>, <model_learning.TeamStateinfoActionModelTuple object at 0x7fc26e683af0>, <model_learning.TeamStateinfoActionModelTuple object at 0x7fc26e683ca0>, <model_learning.TeamStateinfoActionModelTuple object at 0x7fc26e683dc0>, <model_learning.TeamStateinfoActionModelTuple object at 0x7fc26e683ee0>, <model_learning.TeamStateinfoActionModelTuple object at 0x7fc26e68c040>, <model_learning.TeamStateinfoActionModelTuple object at 0x7fc26e68c160>, <model_learning.TeamStateinfoActionModelTuple object at 0x7fc26e68c280>, <model_learning.TeamStateinfoActionModelTuple object at 0x7fc26e68c3a0>, <model_learning.TeamStateinfoActionModelTuple object at 0x7fc26e68c550>], [<model_learning.TeamStateinfoActionModelTuple object at 0x7fc26e68c670>, <model_learning.TeamStateinfoActionModelTuple object at 0x7fc26e68caf0>, <model_learning.TeamStateinfoActionModelTuple object at 0x7fc26e68cd30>, <model_learning.TeamStateinfoActionModelTuple object at 0x7fc26e68cee0>, <model_learning.TeamStateinfoActionModelTuple object at 0x7fc26e696040>, <model_learning.TeamStateinfoActionModelTuple object at 0x7fc26e696280>, <model_learning.TeamStateinfoActionModelTuple object at 0x7fc26e6964c0>, <model_learning.TeamStateinfoActionModelTuple object at 0x7fc26e6965e0>, <model_learning.TeamStateinfoActionModelTuple object at 0x7fc26e696790>, <model_learning.TeamStateinfoActionModelTuple object at 0x7fc26e6968b0>, <model_learning.TeamStateinfoActionModelTuple object at 0x7fc26e696a60>, <model_learning.TeamStateinfoActionModelTuple object at 0x7fc26e696b80>, <model_learning.TeamStateinfoActionModelTuple object at 0x7fc26e696d30>, <model_learning.TeamStateinfoActionModelTuple object at 0x7fc26e696e50>, <model_learning.TeamStateinfoActionModelTuple object at 0x7fc26e696f70>, <model_learning.TeamStateinfoActionModelTuple object at 0x7fc26e69f0d0>, <model_learning.TeamStateinfoActionModelTuple object at 0x7fc26e69f1f0>, <model_learning.TeamStateinfoActionModelTuple object at 0x7fc26e69f310>, <model_learning.TeamStateinfoActionModelTuple object at 0x7fc26e69f430>, <model_learning.TeamStateinfoActionModelTuple object at 0x7fc26e69f550>, <model_learning.TeamStateinfoActionModelTuple object at 0x7fc26e69f670>, <model_learning.TeamStateinfoActionModelTuple object at 0x7fc26e69f790>, <model_learning.TeamStateinfoActionModelTuple object at 0x7fc26e69f940>, <model_learning.TeamStateinfoActionModelTuple object at 0x7fc26e69fa60>, <model_learning.TeamStateinfoActionModelTuple object at 0x7fc26e69fb80>], [<model_learning.TeamStateinfoActionModelTuple object at 0x7fc26e69fca0>, <model_learning.TeamStateinfoActionModelTuple object at 0x7fc26e6aa160>, <model_learning.TeamStateinfoActionModelTuple object at 0x7fc26e6aa3a0>, <model_learning.TeamStateinfoActionModelTuple object at 0x7fc26e6aa4c0>, <model_learning.TeamStateinfoActionModelTuple object at 0x7fc26e6aa670>, <model_learning.TeamStateinfoActionModelTuple object at 0x7fc26e6aa790>, <model_learning.TeamStateinfoActionModelTuple object at 0x7fc26e6aa9d0>, <model_learning.TeamStateinfoActionModelTuple object at 0x7fc26e6aab80>, <model_learning.TeamStateinfoActionModelTuple object at 0x7fc26e6aad30>, <model_learning.TeamStateinfoActionModelTuple object at 0x7fc26e6aaee0>, <model_learning.TeamStateinfoActionModelTuple object at 0x7fc26e6b4040>, <model_learning.TeamStateinfoActionModelTuple object at 0x7fc26e6b4160>, <model_learning.TeamStateinfoActionModelTuple object at 0x7fc26e6b43a0>, <model_learning.TeamStateinfoActionModelTuple object at 0x7fc26e6b44c0>, <model_learning.TeamStateinfoActionModelTuple object at 0x7fc26e6b45e0>, <model_learning.TeamStateinfoActionModelTuple object at 0x7fc26e6b4790>, <model_learning.TeamStateinfoActionModelTuple object at 0x7fc26e6b48b0>, <model_learning.TeamStateinfoActionModelTuple object at 0x7fc26e6b4a60>, <model_learning.TeamStateinfoActionModelTuple object at 0x7fc26e6b4b80>, <model_learning.TeamStateinfoActionModelTuple object at 0x7fc26e6b4d30>, <model_learning.TeamStateinfoActionModelTuple object at 0x7fc26e6b4e50>, <model_learning.TeamStateinfoActionModelTuple object at 0x7fc26e6b4f70>, <model_learning.TeamStateinfoActionModelTuple object at 0x7fc26e6bc0d0>, <model_learning.TeamStateinfoActionModelTuple object at 0x7fc26e6bc1f0>, <model_learning.TeamStateinfoActionModelTuple object at 0x7fc26e6bc310>]]\n"
     ]
    }
   ],
   "source": [
    "if LOAD: # load collected traj history data file\n",
    "    f = bz2.BZ2File(os.path.join(OUTPUT_DIR, f'{FOLDER_NAME}.pkl'), 'rb')\n",
    "    team_trajs = pickle.load(f)\n",
    "    f.close()\n",
    "    print(team_trajs)\n",
    "else:\n",
    "    team_trajs = []"
   ]
  },
  {
   "cell_type": "code",
   "execution_count": 3,
   "id": "83ffa7c3",
   "metadata": {
    "pycharm": {
     "name": "#%%\n"
    }
   },
   "outputs": [],
   "source": [
    "from model_learning.examples.reward_model_multiagent_inference import _get_fancy_name, _get_belief\n",
    "from model_learning.util.plot import plot_evolution\n",
    "\n",
    "team_models = {f'{agent_name}_{role_name}': 0 for role_name in MODEL_ROLES for agent_name in TEAM_AGENTS}\n",
    "MODEL_NAMES = list(team_models.keys())\n",
    "\n",
    "def get_team_model_evolution_data(team_trajs, show_info=False):\n",
    "    model_evolve = []\n",
    "    for traj_i, team_traj in enumerate(team_trajs):\n",
    "        model_evolve_per_traj = []\n",
    "        for step_i, tsam in enumerate(team_traj):\n",
    "            if step_i > -1:\n",
    "                _world_state = tsam.state\n",
    "                if show_info:\n",
    "                    print('==================')\n",
    "                    print('Step', step_i)\n",
    "                    [print(tsam.action[agent_name]) for agent_name in TEAM_AGENTS]\n",
    "                    print(tsam.model_dist)\n",
    "                model_dist = tsam.model_dist\n",
    "                model_evolve_per_traj.append(list(model_dist.values()))\n",
    "        model_evolve.append(model_evolve_per_traj)\n",
    "    return np.array(model_evolve)\n",
    "\n",
    "def get_agent_evolve_from(team_evolve, model_name):\n",
    "    assert type(team_evolve) == np.ndarray\n",
    "    assert model_name in MODEL_NAMES\n",
    "    return team_evolve[:, :, MODEL_NAMES.index(model_name)]\n",
    "\n",
    "if LOAD:\n",
    "    team_probs = get_team_model_evolution_data(team_trajs)\n",
    "    np.savez(os.path.join(TRAJ_DIR, f'team_trajs.npz'), team_probs=team_probs)"
   ]
  },
  {
   "cell_type": "code",
   "execution_count": 4,
   "outputs": [],
   "source": [
    "# import matplotlib.pyplot as plt\n",
    "%matplotlib inline\n",
    "\n",
    "team_probs = np.load(os.path.join(TRAJ_DIR, f'team_trajs.npz'))['team_probs']\n",
    "# for traj_i in range(len(team_probs)):\n",
    "#     for agent_name in TEAM_AGENTS:\n",
    "#         model_idx = []\n",
    "#         for model_i, name in enumerate(MODEL_NAMES):\n",
    "#             if name.startswith(agent_name):\n",
    "#                 model_idx.append(model_i)\n",
    "#         agent_probs = team_probs[traj_i].T[model_idx]\n",
    "#         agent_model_names = [_get_fancy_name(name) for n_i, name in enumerate(MODEL_NAMES) if n_i in model_idx]\n",
    "#\n",
    "#         plot_evolution(agent_probs, agent_model_names,\n",
    "#                        f'Evolution of Model Inference in Trajectory {traj_i+1}', None,\n",
    "#                        os.path.join(TRAJ_DIR, f'inference_{traj_i}_{agent_name}.pdf'), 'Time', 'Model Probability', True, [0,1])"
   ],
   "metadata": {
    "collapsed": false,
    "pycharm": {
     "name": "#%%\n"
    }
   }
  },
  {
   "cell_type": "code",
   "execution_count": 5,
   "outputs": [
    {
     "name": "stdout",
     "output_type": "stream",
     "text": [
      "['Medic', 'Explorer']\n",
      "25\n"
     ]
    },
    {
     "ename": "NameError",
     "evalue": "name 'bb' is not defined",
     "output_type": "error",
     "traceback": [
      "\u001B[0;31m---------------------------------------------------------------------------\u001B[0m",
      "\u001B[0;31mNameError\u001B[0m                                 Traceback (most recent call last)",
      "Input \u001B[0;32mIn [5]\u001B[0m, in \u001B[0;36m<cell line: 25>\u001B[0;34m()\u001B[0m\n\u001B[1;32m     19\u001B[0m     file_name \u001B[38;5;241m=\u001B[39m \u001B[38;5;124mf\u001B[39m\u001B[38;5;124m'\u001B[39m\u001B[38;5;132;01m{\u001B[39;00magent_name\u001B[38;5;132;01m}\u001B[39;00m\u001B[38;5;124m_inference_revolution\u001B[39m\u001B[38;5;124m'\u001B[39m\n\u001B[1;32m     20\u001B[0m     plot_timeseries(df, \u001B[38;5;124m'\u001B[39m\u001B[38;5;124mModel Inference\u001B[39m\u001B[38;5;124m'\u001B[39m,\n\u001B[1;32m     21\u001B[0m                     output_img\u001B[38;5;241m=\u001B[39mos\u001B[38;5;241m.\u001B[39mpath\u001B[38;5;241m.\u001B[39mjoin(TRAJ_DIR, \u001B[38;5;124mf\u001B[39m\u001B[38;5;124m'\u001B[39m\u001B[38;5;132;01m{\u001B[39;00mfile_name\u001B[38;5;132;01m}\u001B[39;00m\u001B[38;5;124m.\u001B[39m\u001B[38;5;132;01m{\u001B[39;00mIMG_EXT\u001B[38;5;132;01m}\u001B[39;00m\u001B[38;5;124m'\u001B[39m), x_label\u001B[38;5;241m=\u001B[39m\u001B[38;5;124m'\u001B[39m\u001B[38;5;124mSteps\u001B[39m\u001B[38;5;124m'\u001B[39m,\n\u001B[1;32m     22\u001B[0m                     y_label\u001B[38;5;241m=\u001B[39m\u001B[38;5;124m'\u001B[39m\u001B[38;5;124mModel Probability\u001B[39m\u001B[38;5;124m'\u001B[39m, var_label\u001B[38;5;241m=\u001B[39m\u001B[38;5;124m'\u001B[39m\u001B[38;5;124mModels\u001B[39m\u001B[38;5;124m'\u001B[39m, y_min\u001B[38;5;241m=\u001B[39m\u001B[38;5;241m0\u001B[39m, y_max\u001B[38;5;241m=\u001B[39m\u001B[38;5;241m1\u001B[39m, plot_mean\u001B[38;5;241m=\u001B[39m\u001B[38;5;28;01mFalse\u001B[39;00m,\n\u001B[1;32m     23\u001B[0m                     group_by\u001B[38;5;241m=\u001B[39m\u001B[38;5;124m'\u001B[39m\u001B[38;5;124mEpisode\u001B[39m\u001B[38;5;124m'\u001B[39m, average\u001B[38;5;241m=\u001B[39m\u001B[38;5;28;01mTrue\u001B[39;00m, width\u001B[38;5;241m=\u001B[39m\u001B[38;5;241m800\u001B[39m, height\u001B[38;5;241m=\u001B[39m\u001B[38;5;241m300\u001B[39m)\n\u001B[0;32m---> 25\u001B[0m \u001B[43mbb\u001B[49m\n",
      "\u001B[0;31mNameError\u001B[0m: name 'bb' is not defined"
     ]
    }
   ],
   "source": [
    "from model_learning.util.plot_new import *\n",
    "dummy_plotly()\n",
    "\n",
    "print(TEAM_AGENTS)\n",
    "print(TRAJ_LENGTH)\n",
    "\n",
    "for agent_name in TEAM_AGENTS:\n",
    "    dfs = []\n",
    "    for e in range(NUM_TRAJECTORIES):\n",
    "        dict = {}\n",
    "        for model_i, model_name in enumerate(MODEL_NAMES):\n",
    "            if model_name.startswith(agent_name):\n",
    "                dict[model_name] = team_probs[e, :, model_i]\n",
    "        df = pd.DataFrame.from_dict(dict, orient='index').transpose()\n",
    "        df['Episode'] = e\n",
    "        dfs.append(df)\n",
    "    df = pd.concat(dfs)\n",
    "\n",
    "    file_name = f'{agent_name}_inference_revolution'\n",
    "    plot_timeseries(df, 'Model Inference',\n",
    "                    output_img=os.path.join(TRAJ_DIR, f'{file_name}.{IMG_EXT}'), x_label='Steps',\n",
    "                    y_label='Model Probability', var_label='Models', y_min=0, y_max=1, plot_mean=False,\n",
    "                    group_by='Episode', average=True, width=800, height=300)\n",
    "\n",
    "bb"
   ],
   "metadata": {
    "collapsed": false,
    "pycharm": {
     "name": "#%%\n"
    }
   }
  },
  {
   "cell_type": "code",
   "execution_count": null,
   "outputs": [],
   "source": [
    "# for model_name in MODEL_NAMES:\n",
    "#     agent_probs = get_agent_evolve_from(team_probs, model_name)\n",
    "#     plot_evolution(agent_probs, [_get_fancy_name(model_name) for i in range(len(agent_probs))],\n",
    "#                f'Evolution of Model Inference on {_get_fancy_name(model_name)}', None,\n",
    "#                os.path.join(TRAJ_DIR, f'inference_{model_name}.pdf'), 'Time', 'Model Probability', True, [0,1])"
   ],
   "metadata": {
    "collapsed": false,
    "pycharm": {
     "name": "#%%\n"
    }
   }
  },
  {
   "cell_type": "code",
   "execution_count": null,
   "outputs": [],
   "source": [
    "# import pandas as pd\n",
    "# df = pd.read_csv('output/examples/multiagent-ToM-property-world/evo-rwd-weights.csv')\n",
    "# rwd_weights = df.to_numpy()\n",
    "# print(rwd_weights)\n",
    "# plot_evolution(rwd_weights.T, ['dh', 'search', 'evacuate'] , 'Reward Parameters Evolution', None,\n",
    "#               os.path.join('output/examples/multiagent-ToM-property-world', f'evo-rwd-weights.pdf'), 'Epoch', 'Weight', y_lim=[-0.25, 0.8])\n"
   ],
   "metadata": {
    "collapsed": false,
    "pycharm": {
     "name": "#%%\n"
    }
   }
  },
  {
   "cell_type": "code",
   "execution_count": null,
   "outputs": [],
   "source": [
    "\n",
    "LEARNER_AGENT = 'medic'\n",
    "CASE = 'rdtksc'\n",
    "DATA_DIR = f'output/examples/multiagent-ToM-property-world/{CASE}_learner_{LEARNER_AGENT}'\n",
    "file_name = 'evo-rwd-weights'\n",
    "df = pd.read_csv(os.path.join(DATA_DIR, f'{file_name}.csv'))\n",
    "df['Epoch'] = list(df.index)\n",
    "print(df)\n",
    "\n",
    "out_file_name = 'test-evo-rwd-weights'\n",
    "plot_timeseries(df, 'Reward Learning',\n",
    "                output_img=os.path.join(DATA_DIR, f'{out_file_name}.{IMG_EXT}'),\n",
    "                x_label='Epoch', y_label='Weight', var_label='Reward Features',\n",
    "                y_min=-0.1, y_max=0.5, plot_mean=False, group_by='Epoch',\n",
    "                average=True, width=800, height=400)\n",
    "#\n",
    "# rwd_weights = df.to_numpy()\n",
    "# print(rwd_weights)\n",
    "# plot_evolution(rwd_weights.T, ['dh', 'search', 'evacuate'] , 'Reward Parameters Evolution', None,\n",
    "#               os.path.join(DATA_DIR, f'evo-rwd-weights.pdf'), 'Epoch', 'Weight', y_lim=[-0.25, 0.8])"
   ],
   "metadata": {
    "collapsed": false,
    "pycharm": {
     "name": "#%%\n"
    }
   }
  },
  {
   "cell_type": "code",
   "execution_count": null,
   "outputs": [],
   "source": [
    "LEARNER_AGENT = 'medic'\n",
    "CASE = 'rdtksc'\n",
    "DATA_DIR = f'output/examples/multiagent-ToM-property-world/{CASE}_learner_{LEARNER_AGENT}'\n",
    "file_name = 'learner-theta'\n",
    "df = pd.read_csv(os.path.join(DATA_DIR, f'{file_name}.csv'))\n",
    "\n",
    "out_file_name = 'bar_learn_theta'\n",
    "plot_bar(df, 'Learned Reward Weights',\n",
    "         output_img=os.path.join(DATA_DIR, f'{out_file_name}.{IMG_EXT}'),\n",
    "         x_label='Reward Features', y_label='Reward Weight',\n",
    "         y_min=-0.25, y_max=0.75,width=600, height=400)"
   ],
   "metadata": {
    "collapsed": false,
    "pycharm": {
     "name": "#%%\n"
    }
   }
  },
  {
   "cell_type": "code",
   "execution_count": null,
   "outputs": [],
   "source": [],
   "metadata": {
    "collapsed": false,
    "pycharm": {
     "name": "#%%\n"
    }
   }
  }
 ],
 "metadata": {
  "kernelspec": {
   "display_name": "Python 3 (ipykernel)",
   "language": "python",
   "name": "python3"
  },
  "language_info": {
   "codemirror_mode": {
    "name": "ipython",
    "version": 3
   },
   "file_extension": ".py",
   "mimetype": "text/x-python",
   "name": "python",
   "nbconvert_exporter": "python",
   "pygments_lexer": "ipython3",
   "version": "3.9.12"
  }
 },
 "nbformat": 4,
 "nbformat_minor": 5
}
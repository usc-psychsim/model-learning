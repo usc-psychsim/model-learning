{
 "cells": [
  {
   "cell_type": "code",
   "execution_count": 1,
   "id": "f33f5231",
   "metadata": {
    "pycharm": {
     "name": "#%%\n"
    }
   },
   "outputs": [
    {
     "name": "stdout",
     "output_type": "stream",
     "text": [
      "/Users/haochen/Desktop/IRL/model-learning/model_learning/examples/output/examples/reward-model-multiagent/team_trajs_md_16x25_10\n"
     ]
    }
   ],
   "source": [
    "from model_learning.examples.reward_model_multiagent_inference import *\n",
    "from model_learning.examples.reward_model_multiagent_inference import OUTPUT_DIR\n",
    "\n",
    "NUM_TRAJECTORIES = 16\n",
    "TRAJ_LENGTH = 25\n",
    "MODEL_RATIONALITY = 10\n",
    "FOLDER_NAME = f'team_trajs_md_{NUM_TRAJECTORIES}x{TRAJ_LENGTH}_{MODEL_RATIONALITY}'\n",
    "TRAJ_DIR = os.path.join(OUTPUT_DIR, FOLDER_NAME)\n",
    "print(TRAJ_DIR)\n",
    "if not os.path.exists(TRAJ_DIR):\n",
    "    os.mkdir(TRAJ_DIR)\n",
    "LOAD = 1\n"
   ]
  },
  {
   "cell_type": "code",
   "execution_count": 2,
   "id": "59c5996a",
   "metadata": {
    "pycharm": {
     "name": "#%%\n"
    }
   },
   "outputs": [
    {
     "name": "stdout",
     "output_type": "stream",
     "text": [
      "[[<model_learning.TeamStateinfoActionModelTuple object at 0x7fb523c3ea00>, <model_learning.TeamStateinfoActionModelTuple object at 0x7fb523c5b280>, <model_learning.TeamStateinfoActionModelTuple object at 0x7fb523c5ba60>, <model_learning.TeamStateinfoActionModelTuple object at 0x7fb5267eb070>, <model_learning.TeamStateinfoActionModelTuple object at 0x7fb5267eb190>, <model_learning.TeamStateinfoActionModelTuple object at 0x7fb5267eb2b0>, <model_learning.TeamStateinfoActionModelTuple object at 0x7fb5267eb490>, <model_learning.TeamStateinfoActionModelTuple object at 0x7fb5267eb670>, <model_learning.TeamStateinfoActionModelTuple object at 0x7fb5267eb790>, <model_learning.TeamStateinfoActionModelTuple object at 0x7fb5267eb8b0>, <model_learning.TeamStateinfoActionModelTuple object at 0x7fb5267eba30>, <model_learning.TeamStateinfoActionModelTuple object at 0x7fb5267ebbb0>, <model_learning.TeamStateinfoActionModelTuple object at 0x7fb5267ebcd0>, <model_learning.TeamStateinfoActionModelTuple object at 0x7fb5267ebe50>, <model_learning.TeamStateinfoActionModelTuple object at 0x7fb5267ebf70>, <model_learning.TeamStateinfoActionModelTuple object at 0x7fb5267f2130>, <model_learning.TeamStateinfoActionModelTuple object at 0x7fb5267f2250>, <model_learning.TeamStateinfoActionModelTuple object at 0x7fb5267f2370>, <model_learning.TeamStateinfoActionModelTuple object at 0x7fb5267f2490>, <model_learning.TeamStateinfoActionModelTuple object at 0x7fb5267f25b0>, <model_learning.TeamStateinfoActionModelTuple object at 0x7fb5267f26d0>, <model_learning.TeamStateinfoActionModelTuple object at 0x7fb5267f27f0>, <model_learning.TeamStateinfoActionModelTuple object at 0x7fb5267f2910>, <model_learning.TeamStateinfoActionModelTuple object at 0x7fb5267f2a30>, <model_learning.TeamStateinfoActionModelTuple object at 0x7fb5267f2b50>], [<model_learning.TeamStateinfoActionModelTuple object at 0x7fb5267f2c70>, <model_learning.TeamStateinfoActionModelTuple object at 0x7fb5267fb0d0>, <model_learning.TeamStateinfoActionModelTuple object at 0x7fb5267fb2b0>, <model_learning.TeamStateinfoActionModelTuple object at 0x7fb5267fb430>, <model_learning.TeamStateinfoActionModelTuple object at 0x7fb5267fb610>, <model_learning.TeamStateinfoActionModelTuple object at 0x7fb5267fb730>, <model_learning.TeamStateinfoActionModelTuple object at 0x7fb5267fb8b0>, <model_learning.TeamStateinfoActionModelTuple object at 0x7fb5267fb9d0>, <model_learning.TeamStateinfoActionModelTuple object at 0x7fb5267fbaf0>, <model_learning.TeamStateinfoActionModelTuple object at 0x7fb5267fbc10>, <model_learning.TeamStateinfoActionModelTuple object at 0x7fb5267fbdf0>, <model_learning.TeamStateinfoActionModelTuple object at 0x7fb5267fbfd0>, <model_learning.TeamStateinfoActionModelTuple object at 0x7fb526b74130>, <model_learning.TeamStateinfoActionModelTuple object at 0x7fb526b742b0>, <model_learning.TeamStateinfoActionModelTuple object at 0x7fb526b743d0>, <model_learning.TeamStateinfoActionModelTuple object at 0x7fb526b744f0>, <model_learning.TeamStateinfoActionModelTuple object at 0x7fb526b74610>, <model_learning.TeamStateinfoActionModelTuple object at 0x7fb526b74730>, <model_learning.TeamStateinfoActionModelTuple object at 0x7fb526b74850>, <model_learning.TeamStateinfoActionModelTuple object at 0x7fb526b74970>, <model_learning.TeamStateinfoActionModelTuple object at 0x7fb526b74b20>, <model_learning.TeamStateinfoActionModelTuple object at 0x7fb526b74c40>, <model_learning.TeamStateinfoActionModelTuple object at 0x7fb526b74d60>, <model_learning.TeamStateinfoActionModelTuple object at 0x7fb526b74e80>, <model_learning.TeamStateinfoActionModelTuple object at 0x7fb526b74fa0>], [<model_learning.TeamStateinfoActionModelTuple object at 0x7fb526b7c100>, <model_learning.TeamStateinfoActionModelTuple object at 0x7fb526b7c580>, <model_learning.TeamStateinfoActionModelTuple object at 0x7fb526b7c7c0>, <model_learning.TeamStateinfoActionModelTuple object at 0x7fb526b7c970>, <model_learning.TeamStateinfoActionModelTuple object at 0x7fb526b7cbb0>, <model_learning.TeamStateinfoActionModelTuple object at 0x7fb526b7cdf0>, <model_learning.TeamStateinfoActionModelTuple object at 0x7fb526b7cfa0>, <model_learning.TeamStateinfoActionModelTuple object at 0x7fb526b85100>, <model_learning.TeamStateinfoActionModelTuple object at 0x7fb526b852b0>, <model_learning.TeamStateinfoActionModelTuple object at 0x7fb526b853d0>, <model_learning.TeamStateinfoActionModelTuple object at 0x7fb526b85610>, <model_learning.TeamStateinfoActionModelTuple object at 0x7fb526b857c0>, <model_learning.TeamStateinfoActionModelTuple object at 0x7fb526b858e0>, <model_learning.TeamStateinfoActionModelTuple object at 0x7fb526b85a00>, <model_learning.TeamStateinfoActionModelTuple object at 0x7fb526b85bb0>, <model_learning.TeamStateinfoActionModelTuple object at 0x7fb526b85cd0>, <model_learning.TeamStateinfoActionModelTuple object at 0x7fb526b85df0>, <model_learning.TeamStateinfoActionModelTuple object at 0x7fb526b85f10>, <model_learning.TeamStateinfoActionModelTuple object at 0x7fb526b8d100>, <model_learning.TeamStateinfoActionModelTuple object at 0x7fb526b8d220>, <model_learning.TeamStateinfoActionModelTuple object at 0x7fb526b8d340>, <model_learning.TeamStateinfoActionModelTuple object at 0x7fb526b8d460>, <model_learning.TeamStateinfoActionModelTuple object at 0x7fb526b8d580>, <model_learning.TeamStateinfoActionModelTuple object at 0x7fb526b8d6a0>, <model_learning.TeamStateinfoActionModelTuple object at 0x7fb526b8d7c0>], [<model_learning.TeamStateinfoActionModelTuple object at 0x7fb526b8d8e0>, <model_learning.TeamStateinfoActionModelTuple object at 0x7fb526b8dd60>, <model_learning.TeamStateinfoActionModelTuple object at 0x7fb526b8dfa0>, <model_learning.TeamStateinfoActionModelTuple object at 0x7fb526b96190>, <model_learning.TeamStateinfoActionModelTuple object at 0x7fb526b962b0>, <model_learning.TeamStateinfoActionModelTuple object at 0x7fb526b96460>, <model_learning.TeamStateinfoActionModelTuple object at 0x7fb526b96580>, <model_learning.TeamStateinfoActionModelTuple object at 0x7fb526b967c0>, <model_learning.TeamStateinfoActionModelTuple object at 0x7fb526b96a00>, <model_learning.TeamStateinfoActionModelTuple object at 0x7fb526b96bb0>, <model_learning.TeamStateinfoActionModelTuple object at 0x7fb526b96cd0>, <model_learning.TeamStateinfoActionModelTuple object at 0x7fb526b96df0>, <model_learning.TeamStateinfoActionModelTuple object at 0x7fb526b96fa0>, <model_learning.TeamStateinfoActionModelTuple object at 0x7fb526b9f100>, <model_learning.TeamStateinfoActionModelTuple object at 0x7fb526b9f220>, <model_learning.TeamStateinfoActionModelTuple object at 0x7fb526b9f340>, <model_learning.TeamStateinfoActionModelTuple object at 0x7fb526b9f4f0>, <model_learning.TeamStateinfoActionModelTuple object at 0x7fb526b9f610>, <model_learning.TeamStateinfoActionModelTuple object at 0x7fb526b9f7c0>, <model_learning.TeamStateinfoActionModelTuple object at 0x7fb526b9f8e0>, <model_learning.TeamStateinfoActionModelTuple object at 0x7fb526b9fa00>, <model_learning.TeamStateinfoActionModelTuple object at 0x7fb526b9fb20>, <model_learning.TeamStateinfoActionModelTuple object at 0x7fb526b9fc40>, <model_learning.TeamStateinfoActionModelTuple object at 0x7fb526b9fd60>, <model_learning.TeamStateinfoActionModelTuple object at 0x7fb526b9fe80>], [<model_learning.TeamStateinfoActionModelTuple object at 0x7fb526b9ffa0>, <model_learning.TeamStateinfoActionModelTuple object at 0x7fb526ba5460>, <model_learning.TeamStateinfoActionModelTuple object at 0x7fb526ba56a0>, <model_learning.TeamStateinfoActionModelTuple object at 0x7fb526ba5850>, <model_learning.TeamStateinfoActionModelTuple object at 0x7fb526ba5a90>, <model_learning.TeamStateinfoActionModelTuple object at 0x7fb526ba5bb0>, <model_learning.TeamStateinfoActionModelTuple object at 0x7fb526ba5d60>, <model_learning.TeamStateinfoActionModelTuple object at 0x7fb526ba5e80>, <model_learning.TeamStateinfoActionModelTuple object at 0x7fb526baf100>, <model_learning.TeamStateinfoActionModelTuple object at 0x7fb526baf2b0>, <model_learning.TeamStateinfoActionModelTuple object at 0x7fb526baf3d0>, <model_learning.TeamStateinfoActionModelTuple object at 0x7fb526baf4f0>, <model_learning.TeamStateinfoActionModelTuple object at 0x7fb526baf6a0>, <model_learning.TeamStateinfoActionModelTuple object at 0x7fb526baf7c0>, <model_learning.TeamStateinfoActionModelTuple object at 0x7fb526baf8e0>, <model_learning.TeamStateinfoActionModelTuple object at 0x7fb526bafa90>, <model_learning.TeamStateinfoActionModelTuple object at 0x7fb526bafbb0>, <model_learning.TeamStateinfoActionModelTuple object at 0x7fb526bafcd0>, <model_learning.TeamStateinfoActionModelTuple object at 0x7fb526bafdf0>, <model_learning.TeamStateinfoActionModelTuple object at 0x7fb526baff10>, <model_learning.TeamStateinfoActionModelTuple object at 0x7fb526bb7070>, <model_learning.TeamStateinfoActionModelTuple object at 0x7fb526bb7220>, <model_learning.TeamStateinfoActionModelTuple object at 0x7fb526bb7340>, <model_learning.TeamStateinfoActionModelTuple object at 0x7fb526bb7460>, <model_learning.TeamStateinfoActionModelTuple object at 0x7fb526bb7580>], [<model_learning.TeamStateinfoActionModelTuple object at 0x7fb526bb76a0>, <model_learning.TeamStateinfoActionModelTuple object at 0x7fb526bb7b20>, <model_learning.TeamStateinfoActionModelTuple object at 0x7fb526bb7d60>, <model_learning.TeamStateinfoActionModelTuple object at 0x7fb526bb7f10>, <model_learning.TeamStateinfoActionModelTuple object at 0x7fb526bbf190>, <model_learning.TeamStateinfoActionModelTuple object at 0x7fb526bbf2b0>, <model_learning.TeamStateinfoActionModelTuple object at 0x7fb526bbf460>, <model_learning.TeamStateinfoActionModelTuple object at 0x7fb526bbf6a0>, <model_learning.TeamStateinfoActionModelTuple object at 0x7fb526bbf850>, <model_learning.TeamStateinfoActionModelTuple object at 0x7fb526bbf970>, <model_learning.TeamStateinfoActionModelTuple object at 0x7fb526bbfbb0>, <model_learning.TeamStateinfoActionModelTuple object at 0x7fb526bbfcd0>, <model_learning.TeamStateinfoActionModelTuple object at 0x7fb526bbfdf0>, <model_learning.TeamStateinfoActionModelTuple object at 0x7fb526bbff10>, <model_learning.TeamStateinfoActionModelTuple object at 0x7fb526bc7070>, <model_learning.TeamStateinfoActionModelTuple object at 0x7fb526bc7190>, <model_learning.TeamStateinfoActionModelTuple object at 0x7fb526bc72b0>, <model_learning.TeamStateinfoActionModelTuple object at 0x7fb526bc73d0>, <model_learning.TeamStateinfoActionModelTuple object at 0x7fb526bc7580>, <model_learning.TeamStateinfoActionModelTuple object at 0x7fb526bc76a0>, <model_learning.TeamStateinfoActionModelTuple object at 0x7fb526bc77c0>, <model_learning.TeamStateinfoActionModelTuple object at 0x7fb526bc78e0>, <model_learning.TeamStateinfoActionModelTuple object at 0x7fb526bc7a00>, <model_learning.TeamStateinfoActionModelTuple object at 0x7fb526bc7b20>, <model_learning.TeamStateinfoActionModelTuple object at 0x7fb526bc7c40>], [<model_learning.TeamStateinfoActionModelTuple object at 0x7fb526bc7d60>, <model_learning.TeamStateinfoActionModelTuple object at 0x7fb526bd0220>, <model_learning.TeamStateinfoActionModelTuple object at 0x7fb526bd0460>, <model_learning.TeamStateinfoActionModelTuple object at 0x7fb526bd0610>, <model_learning.TeamStateinfoActionModelTuple object at 0x7fb526bd07c0>, <model_learning.TeamStateinfoActionModelTuple object at 0x7fb526bd0970>, <model_learning.TeamStateinfoActionModelTuple object at 0x7fb526bd0bb0>, <model_learning.TeamStateinfoActionModelTuple object at 0x7fb526bd0df0>, <model_learning.TeamStateinfoActionModelTuple object at 0x7fb526bd0fa0>, <model_learning.TeamStateinfoActionModelTuple object at 0x7fb526bda100>, <model_learning.TeamStateinfoActionModelTuple object at 0x7fb526bda220>, <model_learning.TeamStateinfoActionModelTuple object at 0x7fb526bda3d0>, <model_learning.TeamStateinfoActionModelTuple object at 0x7fb526bda4f0>, <model_learning.TeamStateinfoActionModelTuple object at 0x7fb526bda610>, <model_learning.TeamStateinfoActionModelTuple object at 0x7fb526bda730>, <model_learning.TeamStateinfoActionModelTuple object at 0x7fb526bda8e0>, <model_learning.TeamStateinfoActionModelTuple object at 0x7fb526bdaa00>, <model_learning.TeamStateinfoActionModelTuple object at 0x7fb526bdabb0>, <model_learning.TeamStateinfoActionModelTuple object at 0x7fb526bdacd0>, <model_learning.TeamStateinfoActionModelTuple object at 0x7fb526bdadf0>, <model_learning.TeamStateinfoActionModelTuple object at 0x7fb526bdaf10>, <model_learning.TeamStateinfoActionModelTuple object at 0x7fb526be2070>, <model_learning.TeamStateinfoActionModelTuple object at 0x7fb526be2190>, <model_learning.TeamStateinfoActionModelTuple object at 0x7fb526be22b0>, <model_learning.TeamStateinfoActionModelTuple object at 0x7fb526be23d0>], [<model_learning.TeamStateinfoActionModelTuple object at 0x7fb526be24f0>, <model_learning.TeamStateinfoActionModelTuple object at 0x7fb526be2970>, <model_learning.TeamStateinfoActionModelTuple object at 0x7fb526be2b20>, <model_learning.TeamStateinfoActionModelTuple object at 0x7fb526be2d60>, <model_learning.TeamStateinfoActionModelTuple object at 0x7fb526be2fa0>, <model_learning.TeamStateinfoActionModelTuple object at 0x7fb526be9190>, <model_learning.TeamStateinfoActionModelTuple object at 0x7fb526be9340>, <model_learning.TeamStateinfoActionModelTuple object at 0x7fb526be94f0>, <model_learning.TeamStateinfoActionModelTuple object at 0x7fb526be96a0>, <model_learning.TeamStateinfoActionModelTuple object at 0x7fb526be97c0>, <model_learning.TeamStateinfoActionModelTuple object at 0x7fb526be9970>, <model_learning.TeamStateinfoActionModelTuple object at 0x7fb526be9a90>, <model_learning.TeamStateinfoActionModelTuple object at 0x7fb526be9c40>, <model_learning.TeamStateinfoActionModelTuple object at 0x7fb526be9df0>, <model_learning.TeamStateinfoActionModelTuple object at 0x7fb526be9f10>, <model_learning.TeamStateinfoActionModelTuple object at 0x7fb526bf2070>, <model_learning.TeamStateinfoActionModelTuple object at 0x7fb526bf2190>, <model_learning.TeamStateinfoActionModelTuple object at 0x7fb526bf22b0>, <model_learning.TeamStateinfoActionModelTuple object at 0x7fb526bf2460>, <model_learning.TeamStateinfoActionModelTuple object at 0x7fb526bf2580>, <model_learning.TeamStateinfoActionModelTuple object at 0x7fb526bf26a0>, <model_learning.TeamStateinfoActionModelTuple object at 0x7fb526bf27c0>, <model_learning.TeamStateinfoActionModelTuple object at 0x7fb526bf28e0>, <model_learning.TeamStateinfoActionModelTuple object at 0x7fb526bf2a00>, <model_learning.TeamStateinfoActionModelTuple object at 0x7fb526bf2b20>], [<model_learning.TeamStateinfoActionModelTuple object at 0x7fb526bf2c40>, <model_learning.TeamStateinfoActionModelTuple object at 0x7fb526bfb100>, <model_learning.TeamStateinfoActionModelTuple object at 0x7fb526bfb340>, <model_learning.TeamStateinfoActionModelTuple object at 0x7fb526bfb4f0>, <model_learning.TeamStateinfoActionModelTuple object at 0x7fb526bfb6a0>, <model_learning.TeamStateinfoActionModelTuple object at 0x7fb526bfb850>, <model_learning.TeamStateinfoActionModelTuple object at 0x7fb526bfba90>, <model_learning.TeamStateinfoActionModelTuple object at 0x7fb526bfbc40>, <model_learning.TeamStateinfoActionModelTuple object at 0x7fb526bfbd60>, <model_learning.TeamStateinfoActionModelTuple object at 0x7fb526bfbf10>, <model_learning.TeamStateinfoActionModelTuple object at 0x7fb526c02100>, <model_learning.TeamStateinfoActionModelTuple object at 0x7fb526c02220>, <model_learning.TeamStateinfoActionModelTuple object at 0x7fb526c02340>, <model_learning.TeamStateinfoActionModelTuple object at 0x7fb526c024f0>, <model_learning.TeamStateinfoActionModelTuple object at 0x7fb526c02610>, <model_learning.TeamStateinfoActionModelTuple object at 0x7fb526c027c0>, <model_learning.TeamStateinfoActionModelTuple object at 0x7fb526c028e0>, <model_learning.TeamStateinfoActionModelTuple object at 0x7fb526c02a90>, <model_learning.TeamStateinfoActionModelTuple object at 0x7fb526c02bb0>, <model_learning.TeamStateinfoActionModelTuple object at 0x7fb526c02cd0>, <model_learning.TeamStateinfoActionModelTuple object at 0x7fb526c02df0>, <model_learning.TeamStateinfoActionModelTuple object at 0x7fb526c02f10>, <model_learning.TeamStateinfoActionModelTuple object at 0x7fb526c0b070>, <model_learning.TeamStateinfoActionModelTuple object at 0x7fb526c0b190>, <model_learning.TeamStateinfoActionModelTuple object at 0x7fb526c0b2b0>], [<model_learning.TeamStateinfoActionModelTuple object at 0x7fb526c0b3d0>, <model_learning.TeamStateinfoActionModelTuple object at 0x7fb526c0b850>, <model_learning.TeamStateinfoActionModelTuple object at 0x7fb526c0ba90>, <model_learning.TeamStateinfoActionModelTuple object at 0x7fb526c0bc40>, <model_learning.TeamStateinfoActionModelTuple object at 0x7fb526c0be80>, <model_learning.TeamStateinfoActionModelTuple object at 0x7fb526c0bfa0>, <model_learning.TeamStateinfoActionModelTuple object at 0x7fb526c14100>, <model_learning.TeamStateinfoActionModelTuple object at 0x7fb526c142b0>, <model_learning.TeamStateinfoActionModelTuple object at 0x7fb526c144f0>, <model_learning.TeamStateinfoActionModelTuple object at 0x7fb526c146a0>, <model_learning.TeamStateinfoActionModelTuple object at 0x7fb526c14850>, <model_learning.TeamStateinfoActionModelTuple object at 0x7fb526c14970>, <model_learning.TeamStateinfoActionModelTuple object at 0x7fb526c14a90>, <model_learning.TeamStateinfoActionModelTuple object at 0x7fb526c14c40>, <model_learning.TeamStateinfoActionModelTuple object at 0x7fb526c14d60>, <model_learning.TeamStateinfoActionModelTuple object at 0x7fb526c14e80>, <model_learning.TeamStateinfoActionModelTuple object at 0x7fb526c14fa0>, <model_learning.TeamStateinfoActionModelTuple object at 0x7fb526c1c100>, <model_learning.TeamStateinfoActionModelTuple object at 0x7fb526c1c220>, <model_learning.TeamStateinfoActionModelTuple object at 0x7fb526c1c340>, <model_learning.TeamStateinfoActionModelTuple object at 0x7fb526c1c4f0>, <model_learning.TeamStateinfoActionModelTuple object at 0x7fb526c1c610>, <model_learning.TeamStateinfoActionModelTuple object at 0x7fb526c1c7c0>, <model_learning.TeamStateinfoActionModelTuple object at 0x7fb526c1c8e0>, <model_learning.TeamStateinfoActionModelTuple object at 0x7fb526c1ca00>], [<model_learning.TeamStateinfoActionModelTuple object at 0x7fb526c1cb20>, <model_learning.TeamStateinfoActionModelTuple object at 0x7fb526c1cfa0>, <model_learning.TeamStateinfoActionModelTuple object at 0x7fb526c26220>, <model_learning.TeamStateinfoActionModelTuple object at 0x7fb526c263d0>, <model_learning.TeamStateinfoActionModelTuple object at 0x7fb526c264f0>, <model_learning.TeamStateinfoActionModelTuple object at 0x7fb526c266a0>, <model_learning.TeamStateinfoActionModelTuple object at 0x7fb526c267c0>, <model_learning.TeamStateinfoActionModelTuple object at 0x7fb526c26a00>, <model_learning.TeamStateinfoActionModelTuple object at 0x7fb526c26c40>, <model_learning.TeamStateinfoActionModelTuple object at 0x7fb526c26d60>, <model_learning.TeamStateinfoActionModelTuple object at 0x7fb526c26e80>, <model_learning.TeamStateinfoActionModelTuple object at 0x7fb526c2d070>, <model_learning.TeamStateinfoActionModelTuple object at 0x7fb526c2d190>, <model_learning.TeamStateinfoActionModelTuple object at 0x7fb526c2d2b0>, <model_learning.TeamStateinfoActionModelTuple object at 0x7fb526c2d460>, <model_learning.TeamStateinfoActionModelTuple object at 0x7fb526c2d580>, <model_learning.TeamStateinfoActionModelTuple object at 0x7fb526c2d6a0>, <model_learning.TeamStateinfoActionModelTuple object at 0x7fb526c2d7c0>, <model_learning.TeamStateinfoActionModelTuple object at 0x7fb526c2d8e0>, <model_learning.TeamStateinfoActionModelTuple object at 0x7fb526c2da90>, <model_learning.TeamStateinfoActionModelTuple object at 0x7fb526c2dbb0>, <model_learning.TeamStateinfoActionModelTuple object at 0x7fb526c2dcd0>, <model_learning.TeamStateinfoActionModelTuple object at 0x7fb526c2ddf0>, <model_learning.TeamStateinfoActionModelTuple object at 0x7fb526c2df10>, <model_learning.TeamStateinfoActionModelTuple object at 0x7fb526c35070>], [<model_learning.TeamStateinfoActionModelTuple object at 0x7fb526c35190>, <model_learning.TeamStateinfoActionModelTuple object at 0x7fb526c35610>, <model_learning.TeamStateinfoActionModelTuple object at 0x7fb526c357c0>, <model_learning.TeamStateinfoActionModelTuple object at 0x7fb526c35970>, <model_learning.TeamStateinfoActionModelTuple object at 0x7fb526c35bb0>, <model_learning.TeamStateinfoActionModelTuple object at 0x7fb526c35d60>, <model_learning.TeamStateinfoActionModelTuple object at 0x7fb526c35f10>, <model_learning.TeamStateinfoActionModelTuple object at 0x7fb526c3e190>, <model_learning.TeamStateinfoActionModelTuple object at 0x7fb526c3e3d0>, <model_learning.TeamStateinfoActionModelTuple object at 0x7fb526c3e580>, <model_learning.TeamStateinfoActionModelTuple object at 0x7fb526c3e6a0>, <model_learning.TeamStateinfoActionModelTuple object at 0x7fb526c3e850>, <model_learning.TeamStateinfoActionModelTuple object at 0x7fb526c3e970>, <model_learning.TeamStateinfoActionModelTuple object at 0x7fb526c3ea90>, <model_learning.TeamStateinfoActionModelTuple object at 0x7fb526c3ebb0>, <model_learning.TeamStateinfoActionModelTuple object at 0x7fb526c3ecd0>, <model_learning.TeamStateinfoActionModelTuple object at 0x7fb526c3edf0>, <model_learning.TeamStateinfoActionModelTuple object at 0x7fb526c3ef10>, <model_learning.TeamStateinfoActionModelTuple object at 0x7fb526c47070>, <model_learning.TeamStateinfoActionModelTuple object at 0x7fb526c47220>, <model_learning.TeamStateinfoActionModelTuple object at 0x7fb526c47340>, <model_learning.TeamStateinfoActionModelTuple object at 0x7fb526c47460>, <model_learning.TeamStateinfoActionModelTuple object at 0x7fb526c47580>, <model_learning.TeamStateinfoActionModelTuple object at 0x7fb526c476a0>, <model_learning.TeamStateinfoActionModelTuple object at 0x7fb526c477c0>], [<model_learning.TeamStateinfoActionModelTuple object at 0x7fb526c478e0>, <model_learning.TeamStateinfoActionModelTuple object at 0x7fb526c47d60>, <model_learning.TeamStateinfoActionModelTuple object at 0x7fb526c47fa0>, <model_learning.TeamStateinfoActionModelTuple object at 0x7fb526c50220>, <model_learning.TeamStateinfoActionModelTuple object at 0x7fb526c50460>, <model_learning.TeamStateinfoActionModelTuple object at 0x7fb526c50610>, <model_learning.TeamStateinfoActionModelTuple object at 0x7fb526c507c0>, <model_learning.TeamStateinfoActionModelTuple object at 0x7fb526c508e0>, <model_learning.TeamStateinfoActionModelTuple object at 0x7fb526c50b20>, <model_learning.TeamStateinfoActionModelTuple object at 0x7fb526c50c40>, <model_learning.TeamStateinfoActionModelTuple object at 0x7fb526c50d60>, <model_learning.TeamStateinfoActionModelTuple object at 0x7fb526c50e80>, <model_learning.TeamStateinfoActionModelTuple object at 0x7fb526c50fa0>, <model_learning.TeamStateinfoActionModelTuple object at 0x7fb526c57100>, <model_learning.TeamStateinfoActionModelTuple object at 0x7fb526c57340>, <model_learning.TeamStateinfoActionModelTuple object at 0x7fb526c57460>, <model_learning.TeamStateinfoActionModelTuple object at 0x7fb526c57580>, <model_learning.TeamStateinfoActionModelTuple object at 0x7fb526c576a0>, <model_learning.TeamStateinfoActionModelTuple object at 0x7fb526c57850>, <model_learning.TeamStateinfoActionModelTuple object at 0x7fb526c57970>, <model_learning.TeamStateinfoActionModelTuple object at 0x7fb526c57a90>, <model_learning.TeamStateinfoActionModelTuple object at 0x7fb526c57bb0>, <model_learning.TeamStateinfoActionModelTuple object at 0x7fb526c57cd0>, <model_learning.TeamStateinfoActionModelTuple object at 0x7fb526c57df0>, <model_learning.TeamStateinfoActionModelTuple object at 0x7fb526c57f10>], [<model_learning.TeamStateinfoActionModelTuple object at 0x7fb526c5f070>, <model_learning.TeamStateinfoActionModelTuple object at 0x7fb526c5f4f0>, <model_learning.TeamStateinfoActionModelTuple object at 0x7fb526c5f730>, <model_learning.TeamStateinfoActionModelTuple object at 0x7fb526c5f970>, <model_learning.TeamStateinfoActionModelTuple object at 0x7fb526c5fbb0>, <model_learning.TeamStateinfoActionModelTuple object at 0x7fb526c5fd60>, <model_learning.TeamStateinfoActionModelTuple object at 0x7fb526c5fe80>, <model_learning.TeamStateinfoActionModelTuple object at 0x7fb526c5ffa0>, <model_learning.TeamStateinfoActionModelTuple object at 0x7fb526c68100>, <model_learning.TeamStateinfoActionModelTuple object at 0x7fb526c682b0>, <model_learning.TeamStateinfoActionModelTuple object at 0x7fb526c68460>, <model_learning.TeamStateinfoActionModelTuple object at 0x7fb526c68580>, <model_learning.TeamStateinfoActionModelTuple object at 0x7fb526c686a0>, <model_learning.TeamStateinfoActionModelTuple object at 0x7fb526c687c0>, <model_learning.TeamStateinfoActionModelTuple object at 0x7fb526c68a00>, <model_learning.TeamStateinfoActionModelTuple object at 0x7fb526c68b20>, <model_learning.TeamStateinfoActionModelTuple object at 0x7fb526c68cd0>, <model_learning.TeamStateinfoActionModelTuple object at 0x7fb526c68df0>, <model_learning.TeamStateinfoActionModelTuple object at 0x7fb526c68f10>, <model_learning.TeamStateinfoActionModelTuple object at 0x7fb526c72070>, <model_learning.TeamStateinfoActionModelTuple object at 0x7fb526c72190>, <model_learning.TeamStateinfoActionModelTuple object at 0x7fb526c722b0>, <model_learning.TeamStateinfoActionModelTuple object at 0x7fb526c723d0>, <model_learning.TeamStateinfoActionModelTuple object at 0x7fb526c724f0>, <model_learning.TeamStateinfoActionModelTuple object at 0x7fb526c72610>], [<model_learning.TeamStateinfoActionModelTuple object at 0x7fb526c72730>, <model_learning.TeamStateinfoActionModelTuple object at 0x7fb526c72bb0>, <model_learning.TeamStateinfoActionModelTuple object at 0x7fb526c72df0>, <model_learning.TeamStateinfoActionModelTuple object at 0x7fb526c72fa0>, <model_learning.TeamStateinfoActionModelTuple object at 0x7fb526c79190>, <model_learning.TeamStateinfoActionModelTuple object at 0x7fb526c79340>, <model_learning.TeamStateinfoActionModelTuple object at 0x7fb526c794f0>, <model_learning.TeamStateinfoActionModelTuple object at 0x7fb526c79610>, <model_learning.TeamStateinfoActionModelTuple object at 0x7fb526c79850>, <model_learning.TeamStateinfoActionModelTuple object at 0x7fb526c79a00>, <model_learning.TeamStateinfoActionModelTuple object at 0x7fb526c79b20>, <model_learning.TeamStateinfoActionModelTuple object at 0x7fb526c79cd0>, <model_learning.TeamStateinfoActionModelTuple object at 0x7fb526c79df0>, <model_learning.TeamStateinfoActionModelTuple object at 0x7fb526c79fa0>, <model_learning.TeamStateinfoActionModelTuple object at 0x7fb526c82100>, <model_learning.TeamStateinfoActionModelTuple object at 0x7fb526c82220>, <model_learning.TeamStateinfoActionModelTuple object at 0x7fb526c82340>, <model_learning.TeamStateinfoActionModelTuple object at 0x7fb526c82460>, <model_learning.TeamStateinfoActionModelTuple object at 0x7fb526c82580>, <model_learning.TeamStateinfoActionModelTuple object at 0x7fb526c82730>, <model_learning.TeamStateinfoActionModelTuple object at 0x7fb526c82850>, <model_learning.TeamStateinfoActionModelTuple object at 0x7fb526c82970>, <model_learning.TeamStateinfoActionModelTuple object at 0x7fb526c82a90>, <model_learning.TeamStateinfoActionModelTuple object at 0x7fb526c82bb0>, <model_learning.TeamStateinfoActionModelTuple object at 0x7fb526c82cd0>], [<model_learning.TeamStateinfoActionModelTuple object at 0x7fb526c82df0>, <model_learning.TeamStateinfoActionModelTuple object at 0x7fb526c8a2b0>, <model_learning.TeamStateinfoActionModelTuple object at 0x7fb526c8a4f0>, <model_learning.TeamStateinfoActionModelTuple object at 0x7fb526c8a6a0>, <model_learning.TeamStateinfoActionModelTuple object at 0x7fb526c8a8e0>, <model_learning.TeamStateinfoActionModelTuple object at 0x7fb526c8aa00>, <model_learning.TeamStateinfoActionModelTuple object at 0x7fb526c8ac40>, <model_learning.TeamStateinfoActionModelTuple object at 0x7fb526c8ae80>, <model_learning.TeamStateinfoActionModelTuple object at 0x7fb526c8afa0>, <model_learning.TeamStateinfoActionModelTuple object at 0x7fb526c93190>, <model_learning.TeamStateinfoActionModelTuple object at 0x7fb526c932b0>, <model_learning.TeamStateinfoActionModelTuple object at 0x7fb526c93460>, <model_learning.TeamStateinfoActionModelTuple object at 0x7fb526c93610>, <model_learning.TeamStateinfoActionModelTuple object at 0x7fb526c93730>, <model_learning.TeamStateinfoActionModelTuple object at 0x7fb526c93850>, <model_learning.TeamStateinfoActionModelTuple object at 0x7fb526c93a00>, <model_learning.TeamStateinfoActionModelTuple object at 0x7fb526c93b20>, <model_learning.TeamStateinfoActionModelTuple object at 0x7fb526c93c40>, <model_learning.TeamStateinfoActionModelTuple object at 0x7fb526c93df0>, <model_learning.TeamStateinfoActionModelTuple object at 0x7fb526c93f10>, <model_learning.TeamStateinfoActionModelTuple object at 0x7fb526c9c070>, <model_learning.TeamStateinfoActionModelTuple object at 0x7fb526c9c190>, <model_learning.TeamStateinfoActionModelTuple object at 0x7fb526c9c2b0>, <model_learning.TeamStateinfoActionModelTuple object at 0x7fb526c9c3d0>, <model_learning.TeamStateinfoActionModelTuple object at 0x7fb526c9c4f0>]]\n"
     ]
    }
   ],
   "source": [
    "if LOAD: # load collected traj history data file\n",
    "    f = bz2.BZ2File(os.path.join(OUTPUT_DIR, f'{FOLDER_NAME}_base.pkl'), 'rb')\n",
    "    team_trajs = pickle.load(f)\n",
    "    f.close()\n",
    "    print(team_trajs)\n",
    "else:\n",
    "    team_trajs = []"
   ]
  },
  {
   "cell_type": "code",
   "execution_count": 3,
   "outputs": [
    {
     "name": "stdout",
     "output_type": "stream",
     "text": [
      "0\n",
      "{'Goal': ActionSet({{'verb': 'handle', 'action': 'search', 'subject': 'Goal'}}), 'Navigator': ActionSet({{'verb': 'handle', 'action': 'search', 'subject': 'Navigator'}})}\n",
      "1\n",
      "{'Goal': ActionSet({{'verb': 'handle', 'action': 'rescue', 'subject': 'Goal'}}), 'Navigator': ActionSet({{'verb': 'movePGWorld', 'action': 'down', 'subject': 'Navigator'}})}\n",
      "2\n",
      "{'Goal': ActionSet({{'verb': 'movePGWorld', 'action': 'down', 'subject': 'Goal'}}), 'Navigator': ActionSet({{'verb': 'movePGWorld', 'action': 'right', 'subject': 'Navigator'}})}\n",
      "3\n",
      "{'Goal': ActionSet({{'verb': 'handle', 'action': 'search', 'subject': 'Goal'}}), 'Navigator': ActionSet({{'verb': 'movePGWorld', 'action': 'right', 'subject': 'Navigator'}})}\n",
      "4\n",
      "{'Goal': ActionSet({{'verb': 'handle', 'action': 'rescue', 'subject': 'Goal'}}), 'Navigator': ActionSet({{'verb': 'movePGWorld', 'action': 'down', 'subject': 'Navigator'}})}\n",
      "5\n",
      "{'Goal': ActionSet({{'verb': 'handle', 'action': 'evacuate', 'subject': 'Goal'}}), 'Navigator': ActionSet({{'verb': 'handle', 'action': 'evacuate', 'subject': 'Navigator'}})}\n",
      "6\n",
      "{'Goal': ActionSet({{'verb': 'movePGWorld', 'action': 'up', 'subject': 'Goal'}}), 'Navigator': ActionSet({{'verb': 'movePGWorld', 'action': 'up', 'subject': 'Navigator'}})}\n",
      "7\n",
      "{'Goal': ActionSet({{'verb': 'handle', 'action': 'evacuate', 'subject': 'Goal'}}), 'Navigator': ActionSet({{'verb': 'handle', 'action': 'evacuate', 'subject': 'Navigator'}})}\n",
      "8\n",
      "{'Goal': ActionSet({{'verb': 'movePGWorld', 'action': 'up', 'subject': 'Goal'}}), 'Navigator': ActionSet({{'verb': 'movePGWorld', 'action': 'up', 'subject': 'Navigator'}})}\n",
      "9\n",
      "{'Goal': ActionSet({{'verb': 'movePGWorld', 'action': 'left', 'subject': 'Goal'}}), 'Navigator': ActionSet({{'verb': 'handle', 'action': 'search', 'subject': 'Navigator'}})}\n",
      "10\n",
      "{'Goal': ActionSet({{'verb': 'movePGWorld', 'action': 'left', 'subject': 'Goal'}}), 'Navigator': ActionSet({{'verb': 'movePGWorld', 'action': 'left', 'subject': 'Navigator'}})}\n",
      "11\n",
      "{'Goal': ActionSet({{'verb': 'handle', 'action': 'rescue', 'subject': 'Goal'}}), 'Navigator': ActionSet({{'verb': 'handle', 'action': 'search', 'subject': 'Navigator'}})}\n",
      "12\n",
      "{'Goal': ActionSet({{'verb': 'handle', 'action': 'call', 'subject': 'Goal'}}), 'Navigator': ActionSet({{'verb': 'movePGWorld', 'action': 'left', 'subject': 'Navigator'}})}\n",
      "13\n",
      "{'Goal': ActionSet({{'verb': 'handle', 'action': 'evacuate', 'subject': 'Goal'}}), 'Navigator': ActionSet({{'verb': 'handle', 'action': 'evacuate', 'subject': 'Navigator'}})}\n",
      "14\n",
      "{'Goal': ActionSet({{'verb': 'move', 'action': 'nowhere', 'subject': 'Goal'}}), 'Navigator': ActionSet({{'verb': 'movePGWorld', 'action': 'down', 'subject': 'Navigator'}})}\n",
      "15\n",
      "{'Goal': ActionSet({{'verb': 'move', 'action': 'nowhere', 'subject': 'Goal'}}), 'Navigator': ActionSet({{'verb': 'handle', 'action': 'search', 'subject': 'Navigator'}})}\n",
      "16\n",
      "{'Goal': ActionSet({{'verb': 'move', 'action': 'nowhere', 'subject': 'Goal'}}), 'Navigator': ActionSet({{'verb': 'movePGWorld', 'action': 'down', 'subject': 'Navigator'}})}\n",
      "17\n",
      "{'Goal': ActionSet({{'verb': 'move', 'action': 'nowhere', 'subject': 'Goal'}}), 'Navigator': ActionSet({{'verb': 'handle', 'action': 'search', 'subject': 'Navigator'}})}\n",
      "18\n",
      "{'Goal': ActionSet({{'verb': 'move', 'action': 'nowhere', 'subject': 'Goal'}}), 'Navigator': ActionSet({{'verb': 'movePGWorld', 'action': 'right', 'subject': 'Navigator'}})}\n",
      "19\n",
      "{'Goal': ActionSet({{'verb': 'move', 'action': 'nowhere', 'subject': 'Goal'}}), 'Navigator': ActionSet({{'verb': 'handle', 'action': 'search', 'subject': 'Navigator'}})}\n",
      "20\n",
      "{'Goal': ActionSet({{'verb': 'move', 'action': 'nowhere', 'subject': 'Goal'}}), 'Navigator': ActionSet({{'verb': 'movePGWorld', 'action': 'up', 'subject': 'Navigator'}})}\n",
      "21\n",
      "{'Goal': ActionSet({{'verb': 'move', 'action': 'nowhere', 'subject': 'Goal'}}), 'Navigator': ActionSet({{'verb': 'handle', 'action': 'search', 'subject': 'Navigator'}})}\n",
      "22\n",
      "{'Goal': ActionSet({{'verb': 'move', 'action': 'nowhere', 'subject': 'Goal'}}), 'Navigator': ActionSet({{'verb': 'movePGWorld', 'action': 'down', 'subject': 'Navigator'}})}\n",
      "23\n",
      "{'Goal': ActionSet({{'verb': 'move', 'action': 'nowhere', 'subject': 'Goal'}}), 'Navigator': ActionSet({{'verb': 'movePGWorld', 'action': 'up', 'subject': 'Navigator'}})}\n",
      "24\n",
      "{'Goal': ActionSet({{'verb': 'move', 'action': 'nowhere', 'subject': 'Goal'}}), 'Navigator': ActionSet({{'verb': 'movePGWorld', 'action': 'up', 'subject': 'Navigator'}})}\n"
     ]
    }
   ],
   "source": [
    "traj0 = team_trajs[0]\n",
    "for i, step in enumerate(traj0):\n",
    "    # print(step.state)\n",
    "    print(i)\n",
    "    print(step.action)"
   ],
   "metadata": {
    "collapsed": false,
    "pycharm": {
     "name": "#%%\n"
    }
   }
  },
  {
   "cell_type": "code",
   "execution_count": null,
   "id": "83ffa7c3",
   "metadata": {
    "pycharm": {
     "name": "#%%\n"
    }
   },
   "outputs": [],
   "source": [
    "from model_learning.examples.reward_model_multiagent_inference import _get_fancy_name, _get_belief\n",
    "from model_learning.util.plot import plot_evolution\n",
    "\n",
    "TEAM_AGENTS = ['Goal', 'Navigator']\n",
    "MODEL_ROLES = ['Self', 'Uniform']  # TODO, 'Random']\n",
    "team_models = {f'{agent_name}_{role_name}': 0 for role_name in MODEL_ROLES for agent_name in TEAM_AGENTS}\n",
    "MODEL_NAMES = list(team_models.keys())\n",
    "\n",
    "def get_team_model_evolution_data(team_trajs, show_info=False):\n",
    "    model_evolve = []\n",
    "    for traj_i, team_traj in enumerate(team_trajs):\n",
    "        model_evolve_per_traj = []\n",
    "        for step_i, tsam in enumerate(team_traj):\n",
    "            if step_i > -1:\n",
    "                _world_state = tsam.state\n",
    "                if show_info:\n",
    "                    print('==================')\n",
    "                    print('Step', step_i)\n",
    "                    [print(tsam.action[agent_name]) for agent_name in TEAM_AGENTS]\n",
    "                    print(tsam.model_dist)\n",
    "                model_dist = tsam.model_dist\n",
    "                model_evolve_per_traj.append(list(model_dist.values()))\n",
    "        model_evolve.append(model_evolve_per_traj)\n",
    "    return np.array(model_evolve)\n",
    "\n",
    "def get_agent_evolve_from(team_evolve, model_name):\n",
    "    assert type(team_evolve) == np.ndarray\n",
    "    assert model_name in MODEL_NAMES\n",
    "    return team_evolve[:, :, MODEL_NAMES.index(model_name)]\n",
    "\n",
    "if LOAD:\n",
    "    team_probs = get_team_model_evolution_data(team_trajs)\n",
    "    np.savez(os.path.join(TRAJ_DIR, f'team_trajs.npz'), team_probs=team_probs)"
   ]
  },
  {
   "cell_type": "code",
   "execution_count": null,
   "outputs": [],
   "source": [
    "# import matplotlib.pyplot as plt\n",
    "%matplotlib inline\n",
    "\n",
    "team_probs = np.load(os.path.join(TRAJ_DIR, f'team_trajs.npz'))['team_probs']\n",
    "traj_i = 0\n",
    "plot_evolution(team_probs[traj_i].T, [_get_fancy_name(name) for name in MODEL_NAMES],\n",
    "               f'Evolution of Model Inference in Trajectory {traj_i+1}', None,\n",
    "               os.path.join(TRAJ_DIR, f'inference_{traj_i}.png'), 'Time', 'Model Probability', True, [0,1])"
   ],
   "metadata": {
    "collapsed": false,
    "pycharm": {
     "name": "#%%\n"
    }
   }
  },
  {
   "cell_type": "code",
   "execution_count": null,
   "outputs": [],
   "source": [
    "for model_name in MODEL_NAMES:\n",
    "    agent_probs = get_agent_evolve_from(team_probs, model_name)\n",
    "    plot_evolution(agent_probs, [_get_fancy_name(model_name) for i in range(len(agent_probs))],\n",
    "               f'Evolution of Model Inference on {model_name}', None,\n",
    "               os.path.join(TRAJ_DIR, f'inference_{model_name}.png'), 'Time', 'Model Probability', True, [0,1])"
   ],
   "metadata": {
    "collapsed": false,
    "pycharm": {
     "name": "#%%\n"
    }
   }
  }
 ],
 "metadata": {
  "kernelspec": {
   "display_name": "Python 3 (ipykernel)",
   "language": "python",
   "name": "python3"
  },
  "language_info": {
   "codemirror_mode": {
    "name": "ipython",
    "version": 3
   },
   "file_extension": ".py",
   "mimetype": "text/x-python",
   "name": "python",
   "nbconvert_exporter": "python",
   "pygments_lexer": "ipython3",
   "version": "3.9.12"
  }
 },
 "nbformat": 4,
 "nbformat_minor": 5
}